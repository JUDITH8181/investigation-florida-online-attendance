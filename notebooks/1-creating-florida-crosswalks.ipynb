{
 "cells": [
  {
   "cell_type": "markdown",
   "metadata": {},
   "source": [
    "# Creating the Florida school number crosswalks"
   ]
  },
  {
   "cell_type": "code",
   "execution_count": 1,
   "metadata": {},
   "outputs": [
    {
     "name": "stderr",
     "output_type": "stream",
     "text": [
      "/Users/maddy/Desktop/investigation-florida-online-attendance-master/venv/lib/python3.7/site-packages/fuzzywuzzy/fuzz.py:11: UserWarning: Using slow pure-python SequenceMatcher. Install python-Levenshtein to remove this warning\n",
      "  warnings.warn('Using slow pure-python SequenceMatcher. Install python-Levenshtein to remove this warning')\n"
     ]
    }
   ],
   "source": [
    "from os import path\n",
    "import os\n",
    "\n",
    "import numpy as np\n",
    "import pandas as pd\n",
    "from fuzzywuzzy import fuzz\n",
    "from fuzzywuzzy import process"
   ]
  },
  {
   "cell_type": "markdown",
   "metadata": {},
   "source": [
    "## Assert folders are in place"
   ]
  },
  {
   "cell_type": "code",
   "execution_count": 2,
   "metadata": {},
   "outputs": [
    {
     "name": "stdout",
     "output_type": "stream",
     "text": [
      "../data/intermediary/keys/ successfully made!\n"
     ]
    }
   ],
   "source": [
    "folders = [\n",
    "    '../data/intermediary/keys/',\n",
    "]\n",
    "\n",
    "for folder in folders:\n",
    "    if path.exists(folder):\n",
    "        print(\"{folder} is already here!\".format(folder=folder))\n",
    "    else:\n",
    "        try:\n",
    "            os.makedirs(folder)\n",
    "        except OSError:\n",
    "            print(\"I couldn't make {folder}!\".format(folder=folder))\n",
    "        else:\n",
    "            print(\"{folder} successfully made!\".format(folder=folder))"
   ]
  },
  {
   "cell_type": "markdown",
   "metadata": {},
   "source": [
    "## Broward"
   ]
  },
  {
   "cell_type": "code",
   "execution_count": 3,
   "metadata": {},
   "outputs": [],
   "source": [
    "keys = pd.read_csv('../data/intermediary/scorecard/names/broward.csv')"
   ]
  },
  {
   "cell_type": "code",
   "execution_count": 4,
   "metadata": {},
   "outputs": [],
   "source": [
    "raw_attendance = pd.read_csv('../data/input/foia/broward.csv')\n",
    "attendance = pd.DataFrame()\n",
    "attendance['school_name'] = raw_attendance['SchoolName'].unique()"
   ]
  },
  {
   "cell_type": "code",
   "execution_count": 5,
   "metadata": {},
   "outputs": [],
   "source": [
    "choices = keys['school_name_l'].unique()\n",
    "\n",
    "attendance['key_guess'] = attendance['school_name'].apply(lambda x: process.extract(x, choices, limit=1, scorer=fuzz.token_sort_ratio)[0])\n",
    "attendance['guess_confidence'] = attendance['key_guess'].apply(lambda x: x[1])\n",
    "attendance['key_guess'] = attendance['key_guess'].apply(lambda x: x[0])"
   ]
  },
  {
   "cell_type": "markdown",
   "metadata": {},
   "source": [
    "Check rows that have a low guess confidence score:"
   ]
  },
  {
   "cell_type": "code",
   "execution_count": 6,
   "metadata": {},
   "outputs": [
    {
     "data": {
      "text/html": [
       "<div>\n",
       "<style scoped>\n",
       "    .dataframe tbody tr th:only-of-type {\n",
       "        vertical-align: middle;\n",
       "    }\n",
       "\n",
       "    .dataframe tbody tr th {\n",
       "        vertical-align: top;\n",
       "    }\n",
       "\n",
       "    .dataframe thead th {\n",
       "        text-align: right;\n",
       "    }\n",
       "</style>\n",
       "<table border=\"1\" class=\"dataframe\">\n",
       "  <thead>\n",
       "    <tr style=\"text-align: right;\">\n",
       "      <th></th>\n",
       "      <th>school_name</th>\n",
       "      <th>key_guess</th>\n",
       "      <th>guess_confidence</th>\n",
       "    </tr>\n",
       "  </thead>\n",
       "  <tbody>\n",
       "    <tr>\n",
       "      <th>128</th>\n",
       "      <td>NOVA HIGH</td>\n",
       "      <td>NOVA HIGH SCHOOL</td>\n",
       "      <td>72</td>\n",
       "    </tr>\n",
       "    <tr>\n",
       "      <th>153</th>\n",
       "      <td>PIPER HIGH</td>\n",
       "      <td>PIPER HIGH SCHOOL</td>\n",
       "      <td>74</td>\n",
       "    </tr>\n",
       "    <tr>\n",
       "      <th>216</th>\n",
       "      <td>WILLIAM T. MCFATTER TECHNICAL HIGH</td>\n",
       "      <td>MCFATTER TECHNICAL COLLEGE</td>\n",
       "      <td>68</td>\n",
       "    </tr>\n",
       "  </tbody>\n",
       "</table>\n",
       "</div>"
      ],
      "text/plain": [
       "                            school_name                   key_guess  \\\n",
       "128                           NOVA HIGH            NOVA HIGH SCHOOL   \n",
       "153                          PIPER HIGH           PIPER HIGH SCHOOL   \n",
       "216  WILLIAM T. MCFATTER TECHNICAL HIGH  MCFATTER TECHNICAL COLLEGE   \n",
       "\n",
       "     guess_confidence  \n",
       "128                72  \n",
       "153                74  \n",
       "216                68  "
      ]
     },
     "execution_count": 6,
     "metadata": {},
     "output_type": "execute_result"
    }
   ],
   "source": [
    "attendance[attendance['guess_confidence'] < 75]"
   ]
  },
  {
   "cell_type": "markdown",
   "metadata": {},
   "source": [
    "Check and see if the amount unique guesses is equal to the number of schools:"
   ]
  },
  {
   "cell_type": "code",
   "execution_count": 7,
   "metadata": {},
   "outputs": [
    {
     "name": "stdout",
     "output_type": "stream",
     "text": [
      "key guesses: 217\n",
      "Actual district schools: 219\n",
      "Off by: 2\n"
     ]
    }
   ],
   "source": [
    "print(\"key guesses:\", attendance['key_guess'].nunique())\n",
    "print(\"Actual district schools:\", attendance['school_name'].nunique())\n",
    "print(\"Off by:\", attendance['school_name'].nunique() - attendance['key_guess'].nunique())"
   ]
  },
  {
   "cell_type": "markdown",
   "metadata": {},
   "source": [
    "List out which rows have duplicate guesses:"
   ]
  },
  {
   "cell_type": "code",
   "execution_count": 8,
   "metadata": {},
   "outputs": [
    {
     "name": "stdout",
     "output_type": "stream",
     "text": [
      "this guess used multiple times: CYPRESS RUN ALTERNATIVE CENTER\n",
      "for these schools:\n",
      "['CYPRESS RUN ALTERNATIVE CENTER' 'PINE RIDGE ALTERNATIVE CENTER']\n",
      "\n",
      "\n",
      "this guess used multiple times: PLANTATION PARK ELEMENTARY\n",
      "for these schools:\n",
      "['PLANTATION ELEMENTARY' 'PLANTATION PARK ELEMENTARY']\n",
      "\n",
      "\n"
     ]
    }
   ],
   "source": [
    "for school in attendance['key_guess'].unique():\n",
    "    if (attendance[attendance['key_guess'] == school]['school_name'].nunique()) > 1:\n",
    "        print(\"this guess used multiple times:\",school)\n",
    "        print('for these schools:')\n",
    "        print(attendance[attendance['key_guess'].str.contains(school)]['school_name'].unique())\n",
    "        print(\"\\n\")"
   ]
  },
  {
   "cell_type": "markdown",
   "metadata": {},
   "source": [
    "List out more potential guesses for those that need fixes:"
   ]
  },
  {
   "cell_type": "code",
   "execution_count": 9,
   "metadata": {},
   "outputs": [
    {
     "name": "stdout",
     "output_type": "stream",
     "text": [
      "PINE RIDGE ALTERNATIVE CENTER\n",
      "\t ('CYPRESS RUN ALTERNATIVE CENTER', 78)\n",
      "\t ('PARK RIDGE ELEMENTARY SCHOOL', 49)\n",
      "\t ('RENAISSANCE CHARTER SCHOOLS AT PINES', 49)\n",
      "\t ('EAGLE RIDGE ELEMENTARY SCHOOL', 48)\n",
      "\t ('CITY/PEMBROKE PINES CHARTER MIDDLE SCHOOL', 46)\n",
      "\t ('PEMBROKE PINES CHARTER ELEMENTARY SCHOOL', 46)\n",
      "\t ('WHIDDON RODGERS EDUCATION CENTER', 46)\n",
      "\t ('EAGLE POINT ELEMENTARY SCHOOL', 45)\n",
      "\t ('OAKRIDGE ELEMENTARY SCHOOL', 44)\n",
      "\t ('PINEWOOD ELEMENTARY SCHOOL', 44)\n",
      "PLANTATION ELEMENTARY\n",
      "\t ('PLANTATION PARK ELEMENTARY', 89)\n",
      "\t ('PLANTATION ELEMENTARY SCHOOL', 86)\n",
      "\t ('WATKINS ELEMENTARY SCHOOL', 70)\n",
      "\t ('FLORANADA ELEMENTARY SCHOOL', 67)\n",
      "\t ('WINSTON PARK ELEMENTARY SCHOOL', 67)\n",
      "\t ('MARGATE ELEMENTARY SCHOOL', 65)\n",
      "\t ('FLAMINGO ELEMENTARY SCHOOL', 64)\n",
      "\t ('LAKESIDE ELEMENTARY SCHOOL', 64)\n",
      "\t ('LARKDALE ELEMENTARY SCHOOL', 64)\n",
      "\t ('MANATEE BAY ELEMENTARY SCHOOL', 64)\n"
     ]
    }
   ],
   "source": [
    "need_fixes = ['PINE RIDGE ALTERNATIVE CENTER', 'PLANTATION ELEMENTARY']\n",
    "for need in need_fixes:\n",
    "    print(need)\n",
    "    for guess in process.extract(need, choices, limit=10, scorer=fuzz.token_sort_ratio):\n",
    "        print(\"\\t\", guess)"
   ]
  },
  {
   "cell_type": "markdown",
   "metadata": {},
   "source": [
    "Replace incorrect options:"
   ]
  },
  {
   "cell_type": "code",
   "execution_count": 10,
   "metadata": {},
   "outputs": [],
   "source": [
    "school = 'PLANTATION ELEMENTARY'\n",
    "fixed_guess = 'PLANTATION ELEMENTARY SCHOOL'\n",
    "\n",
    "attendance['key_guess'] = np.where(attendance['school_name'] == school, fixed_guess, attendance['key_guess'])"
   ]
  },
  {
   "cell_type": "markdown",
   "metadata": {},
   "source": [
    "Remove rows that don't seem to have matching data:"
   ]
  },
  {
   "cell_type": "code",
   "execution_count": 11,
   "metadata": {},
   "outputs": [],
   "source": [
    "school = 'PINE RIDGE ALTERNATIVE CENTER'\n",
    "attendance = attendance[attendance['school_name'] != school]"
   ]
  },
  {
   "cell_type": "markdown",
   "metadata": {},
   "source": [
    "Save as a key file:"
   ]
  },
  {
   "cell_type": "code",
   "execution_count": 12,
   "metadata": {},
   "outputs": [],
   "source": [
    "KEYS_FILENAME = '../data/intermediary/keys/broward.csv'\n",
    "df = attendance.merge(keys, left_on='key_guess', right_on='school_name_l')\n",
    "df[[\n",
    "    'school_name', \n",
    "    'key_guess', \n",
    "    'guess_confidence', \n",
    "    'district_number', \n",
    "    'district_name', \n",
    "    'school_number',\n",
    "    'school_name_l'\n",
    "]].to_csv(KEYS_FILENAME, index=False)"
   ]
  },
  {
   "cell_type": "code",
   "execution_count": null,
   "metadata": {},
   "outputs": [],
   "source": []
  }
 ],
 "metadata": {
  "kernelspec": {
   "display_name": "Python 3",
   "language": "python",
   "name": "python3"
  },
  "language_info": {
   "codemirror_mode": {
    "name": "ipython",
    "version": 3
   },
   "file_extension": ".py",
   "mimetype": "text/x-python",
   "name": "python",
   "nbconvert_exporter": "python",
   "pygments_lexer": "ipython3",
   "version": "3.7.3"
  }
 },
 "nbformat": 4,
 "nbformat_minor": 2
}
