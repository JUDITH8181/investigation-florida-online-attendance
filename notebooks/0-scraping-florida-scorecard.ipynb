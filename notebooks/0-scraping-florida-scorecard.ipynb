{
 "cells": [
  {
   "cell_type": "markdown",
   "metadata": {},
   "source": [
    "# Scraping the Florida Scorecard Website"
   ]
  },
  {
   "cell_type": "code",
   "execution_count": 1,
   "metadata": {},
   "outputs": [],
   "source": [
    "import os\n",
    "from os import path\n",
    "\n",
    "import requests\n",
    "import pandas as pd"
   ]
  },
  {
   "cell_type": "markdown",
   "metadata": {},
   "source": [
    "## Assert folders are in place"
   ]
  },
  {
   "cell_type": "code",
   "execution_count": 2,
   "metadata": {},
   "outputs": [
    {
     "name": "stdout",
     "output_type": "stream",
     "text": [
      "../data/intermediary/scorecard/equity/ successfully made!\n",
      "../data/input/scorecard/raw_equity/ successfully made!\n",
      "../data/input/scorecard/enrollment successfully made!\n",
      "../data/intermediary/scorecard/characteristics/ successfully made!\n",
      "../data/intermediary/scorecard/names/ successfully made!\n",
      "../data/intermediary/scorecard/enrollment/ successfully made!\n"
     ]
    }
   ],
   "source": [
    "folders = [\n",
    "    '../data/intermediary/scorecard/equity/',\n",
    "    '../data/input/scorecard/raw_equity/',\n",
    "    '../data/input/scorecard/enrollment',\n",
    "    '../data/intermediary/scorecard/characteristics/',\n",
    "    '../data/intermediary/scorecard/names/',\n",
    "    '../data/intermediary/scorecard/enrollment/'\n",
    "]\n",
    "\n",
    "for folder in folders:\n",
    "    if path.exists(folder):\n",
    "        print(\"{folder} is already here!\".format(folder=folder))\n",
    "    else:\n",
    "        try:\n",
    "            os.makedirs(folder)\n",
    "        except OSError:\n",
    "            print(\"I couldn't make {folder}!\".format(folder=folder))\n",
    "        else:\n",
    "            print(\"{folder} successfully made!\".format(folder=folder))"
   ]
  },
  {
   "cell_type": "markdown",
   "metadata": {},
   "source": [
    "## Gather scorecard base data"
   ]
  },
  {
   "cell_type": "code",
   "execution_count": 3,
   "metadata": {},
   "outputs": [],
   "source": [
    "url = \"https://edudata.fldoe.org/ReportCards/data/rc_base.csv\"\n",
    "folder = '../data/input/scorecard/'\n",
    "base_filename = folder + url.rsplit('/', 1)[-1]\n",
    "\n",
    "if not path.exists(base_filename):\n",
    "    r = requests.get(url)\n",
    "    with open(base_filename, 'wb') as fd:\n",
    "        for chunk in r.iter_content(chunk_size=128):\n",
    "            fd.write(chunk)"
   ]
  },
  {
   "cell_type": "markdown",
   "metadata": {},
   "source": [
    "## Collect and clean district-specific equity data"
   ]
  },
  {
   "cell_type": "code",
   "execution_count": 4,
   "metadata": {},
   "outputs": [],
   "source": [
    "districts = [\n",
    "    \"broward\",\n",
    "    'hillsborough',\n",
    "    'miami-dade'\n",
    "]   "
   ]
  },
  {
   "cell_type": "code",
   "execution_count": 5,
   "metadata": {},
   "outputs": [
    {
     "name": "stdout",
     "output_type": "stream",
     "text": [
      "https://edudata.fldoe.org/ReportCards/data/Edqual/Expeff/6.csv\n",
      "https://edudata.fldoe.org/ReportCards/data/Edqual/Expeff/29.csv\n",
      "https://edudata.fldoe.org/ReportCards/data/Edqual/Expeff/13.csv\n"
     ]
    }
   ],
   "source": [
    "raw_keys = pd.read_csv(base_filename)\n",
    "raw_keys = raw_keys[['district_number', 'district_name', 'school_number', 'school_name_l', 'school_name_s']]\n",
    "\n",
    "for district in districts:\n",
    "    # Get district information\n",
    "    keys = raw_keys[raw_keys['district_name'] == district.upper()]\n",
    "    district_number = keys.iloc[0]['district_number']\n",
    "\n",
    "    url = 'https://edudata.fldoe.org/ReportCards/data/Edqual/Expeff/{:d}.csv'.format(district_number)\n",
    "    folder = '../data/input/scorecard/raw_equity/'\n",
    "\n",
    "    # Download raw csv\n",
    "    district_file = folder + '{:02d}.csv'.format(district_number)\n",
    "    \n",
    "    if not path.exists(district_file):\n",
    "        online_file = url.format(district_number)\n",
    "        print(online_file)\n",
    "        r = requests.get(online_file)\n",
    "    \n",
    "        with open(district_file, 'wb') as fd:\n",
    "            for chunk in r.iter_content(chunk_size=128):\n",
    "                fd.write(chunk)\n",
    "\n",
    "    raw_equity = pd.read_csv(district_file) \n",
    "    \n",
    "    # Clean and format\n",
    "    equity = raw_equity.drop_duplicates(subset=['s'])[['s', 'd', 'c']]\n",
    "    equity = equity[equity['s'] != 0]\n",
    "    equity['school_number'] = equity['s']\n",
    "    equity['district_number'] = equity['d']\n",
    "    equity[['minority','poverty', 'title_i']] = equity.c.apply( \n",
    "       lambda x: pd.Series(str(x).split(\"/\"))) \n",
    "\n",
    "    equity.drop(['c', 's', 'd'], axis='columns', inplace=True)\n",
    "    \n",
    "    # Save cleaned csv\n",
    "    equity.to_csv('../data/intermediary/scorecard/equity/' + district + '.csv', index=False)\n",
    "    "
   ]
  },
  {
   "cell_type": "markdown",
   "metadata": {},
   "source": [
    "## Collect and clean Miami-Dade 2020 enrollment data"
   ]
  },
  {
   "cell_type": "code",
   "execution_count": 6,
   "metadata": {},
   "outputs": [
    {
     "name": "stderr",
     "output_type": "stream",
     "text": [
      "/Users/maddy/Desktop/investigation-florida-online-attendance-master/venv/lib/python3.7/site-packages/ipykernel_launcher.py:15: UserWarning: Boolean Series key will be reindexed to match DataFrame index.\n",
      "  from ipykernel import kernelapp as app\n",
      "/Users/maddy/Desktop/investigation-florida-online-attendance-master/venv/lib/python3.7/site-packages/ipykernel_launcher.py:16: UserWarning: Boolean Series key will be reindexed to match DataFrame index.\n",
      "  app.launch_new_instance()\n"
     ]
    }
   ],
   "source": [
    "url = 'https://edudata.fldoe.org/ReportCards/data/Enrollment/13.csv'\n",
    "folder = '../data/input/scorecard/enrollment/'\n",
    "\n",
    "district_file = folder + 'miami_dade.csv'\n",
    "    \n",
    "if not path.exists(district_file):\n",
    "    r = requests.get(url)\n",
    "\n",
    "    with open(district_file, 'wb') as fd:\n",
    "        for chunk in r.iter_content(chunk_size=128):\n",
    "            fd.write(chunk)\n",
    "enrollment = pd.read_csv(district_file) \n",
    "    \n",
    "enrollment = enrollment[enrollment.y == 1920][\n",
    "    enrollment.g.str.contains('Total')][\n",
    "    enrollment.s != 0][['s', 'enn']]\n",
    "    \n",
    "enrollment = enrollment.rename(columns={\n",
    "    's': 'school_number',\n",
    "    'enn': 'total_students'\n",
    "})\n",
    "\n",
    "enrollment.to_csv('../data/intermediary/scorecard/enrollment/' + 'miami-dade' + '.csv', index=False)"
   ]
  },
  {
   "cell_type": "markdown",
   "metadata": {},
   "source": [
    "## Clean additional district-specific characteristic data"
   ]
  },
  {
   "cell_type": "code",
   "execution_count": 7,
   "metadata": {},
   "outputs": [],
   "source": [
    "def get_grade(row):\n",
    "    grade = row['grade_1819']\n",
    "    pip = row['improvement_rating']\n",
    "    \n",
    "    if grade in ['A', 'B']:\n",
    "        return grade\n",
    "    elif grade in ['C', 'D', 'F']:\n",
    "        return 'C or below'\n",
    "    elif pip in ['C', 'I', 'M', 'U']:\n",
    "        return 'Improvement Plan'\n",
    "    else:\n",
    "        return \"N/A\""
   ]
  },
  {
   "cell_type": "code",
   "execution_count": 8,
   "metadata": {},
   "outputs": [
    {
     "name": "stderr",
     "output_type": "stream",
     "text": [
      "/Users/maddy/Desktop/investigation-florida-online-attendance-master/venv/lib/python3.7/site-packages/ipykernel_launcher.py:6: SettingWithCopyWarning: \n",
      "A value is trying to be set on a copy of a slice from a DataFrame.\n",
      "Try using .loc[row_indexer,col_indexer] = value instead\n",
      "\n",
      "See the caveats in the documentation: https://pandas.pydata.org/pandas-docs/stable/user_guide/indexing.html#returning-a-view-versus-a-copy\n",
      "  \n"
     ]
    }
   ],
   "source": [
    "raw_keys = pd.read_csv(base_filename)\n",
    "\n",
    "for district in districts:\n",
    "    keys = raw_keys[raw_keys['district_name'] == district.upper()]\n",
    "    characteristics = keys[['district_number', 'school_number', 'school_type', 'alt_schl', 'charter', 'grade_1819', 'improvement_rating', 'federal_index', 'CEP_Percentage']]\n",
    "    characteristics['grade'] = characteristics.apply(lambda row : get_grade(row), axis = 1)\n",
    "    columns = [\n",
    "        'district_number',\n",
    "        'school_number',\n",
    "        'school_type',\n",
    "        'grade',\n",
    "        'charter',\n",
    "        'alt_schl',\n",
    "        'federal_index',\n",
    "        'CEP_Percentage'\n",
    "    ]\n",
    "    characteristics[columns].to_csv('../data/intermediary/scorecard/characteristics/' + district + '.csv', index=False)"
   ]
  },
  {
   "cell_type": "markdown",
   "metadata": {},
   "source": [
    "## Gather school names for crosswalk development"
   ]
  },
  {
   "cell_type": "code",
   "execution_count": 9,
   "metadata": {},
   "outputs": [],
   "source": [
    "raw_keys = pd.read_csv(base_filename)\n",
    "\n",
    "for district in districts:\n",
    "    raw_keys = raw_keys[['district_number', 'district_name', 'school_number', 'school_name_l', 'school_name_s']]\n",
    "    keys = raw_keys[raw_keys['district_name'] == district.upper()]\n",
    "    keys.to_csv('../data/intermediary/scorecard/names/' + district + '.csv', index=False)"
   ]
  },
  {
   "cell_type": "code",
   "execution_count": null,
   "metadata": {},
   "outputs": [],
   "source": []
  }
 ],
 "metadata": {
  "kernelspec": {
   "display_name": "Python 3",
   "language": "python",
   "name": "python3"
  },
  "language_info": {
   "codemirror_mode": {
    "name": "ipython",
    "version": 3
   },
   "file_extension": ".py",
   "mimetype": "text/x-python",
   "name": "python",
   "nbconvert_exporter": "python",
   "pygments_lexer": "ipython3",
   "version": "3.7.3"
  }
 },
 "nbformat": 4,
 "nbformat_minor": 2
}
